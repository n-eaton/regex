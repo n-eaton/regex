{
 "cells": [
  {
   "cell_type": "code",
   "execution_count": 3,
   "id": "b966a5f0",
   "metadata": {},
   "outputs": [],
   "source": [
    "import re\n",
    "from selenium import webdriver\n",
    "from webdriver_manager.chrome import ChromeDriverManager"
   ]
  },
  {
   "cell_type": "code",
   "execution_count": 38,
   "id": "0afaf495",
   "metadata": {},
   "outputs": [
    {
     "name": "stdout",
     "output_type": "stream",
     "text": [
      "contactus@airindia.in\n",
      "contactus@airindia.in\n",
      "flyingreturn.base@airindia.in\n",
      "flyingreturn.base@airindia.in\n",
      "airindia.retros@airindia.in\n",
      "airindia.retros@airindia.in\n",
      "star.retros@airindia.in\n",
      "star.retros@airindia.in\n",
      "silver.edge@airindia.in\n",
      "silver.edge@airindia.in\n",
      "golden.edge@airindia.in\n",
      "golden.edge@airindia.in\n",
      "maharajah.club@airindia.in\n",
      "maharajah.club@airindia.in\n"
     ]
    }
   ],
   "source": [
    "driver = webdriver.Chrome(r\"chromedriver\")\n",
    "driver.get('https://www.airindia.in/customer-support.htm')\n",
    "doc = driver.page_source\n",
    "emails = re.findall(r'[\\w\\.]+@[\\w\\.-]+', doc)\n",
    "for email in emails:\n",
    "    print (email)"
   ]
  },
  {
   "cell_type": "code",
   "execution_count": 8,
   "id": "61f994cd",
   "metadata": {},
   "outputs": [],
   "source": [
    "from selenium.webdriver import Keys"
   ]
  },
  {
   "cell_type": "code",
   "execution_count": 47,
   "id": "a5be9080",
   "metadata": {},
   "outputs": [
    {
     "ename": "SyntaxError",
     "evalue": "invalid syntax (Temp/ipykernel_9476/87069985.py, line 5)",
     "output_type": "error",
     "traceback": [
      "\u001b[1;36m  File \u001b[1;32m\"C:\\Users\\neato\\AppData\\Local\\Temp/ipykernel_9476/87069985.py\"\u001b[1;36m, line \u001b[1;32m5\u001b[0m\n\u001b[1;33m    while re.findall(r'[\\w\\.]+@[\\w\\.-]+', emails )\u001b[0m\n\u001b[1;37m                                                  ^\u001b[0m\n\u001b[1;31mSyntaxError\u001b[0m\u001b[1;31m:\u001b[0m invalid syntax\n"
     ]
    }
   ],
   "source": [
    "re.sub(r'(.)\\1+', r'\\1', 'aaaaabbbbbb[[[[[')"
   ]
  },
  {
   "cell_type": "code",
   "execution_count": 45,
   "id": "4033894c",
   "metadata": {},
   "outputs": [
    {
     "name": "stdout",
     "output_type": "stream",
     "text": [
      "abcdef\n"
     ]
    }
   ],
   "source": [
    "s=\"ababacbdefefbcdefde\"\n",
    "\n",
    "while re.search(r'([a-z])(.*)\\1', s):\n",
    "    s= re.sub(r'([a-z])(.*)\\1', r'\\1\\2', s)\n",
    "\n",
    "print(s)   # prints 'abcdef'"
   ]
  },
  {
   "cell_type": "code",
   "execution_count": null,
   "id": "42097589",
   "metadata": {},
   "outputs": [],
   "source": []
  }
 ],
 "metadata": {
  "kernelspec": {
   "display_name": "Python 3 (ipykernel)",
   "language": "python",
   "name": "python3"
  },
  "language_info": {
   "codemirror_mode": {
    "name": "ipython",
    "version": 3
   },
   "file_extension": ".py",
   "mimetype": "text/x-python",
   "name": "python",
   "nbconvert_exporter": "python",
   "pygments_lexer": "ipython3",
   "version": "3.8.12"
  }
 },
 "nbformat": 4,
 "nbformat_minor": 5
}
