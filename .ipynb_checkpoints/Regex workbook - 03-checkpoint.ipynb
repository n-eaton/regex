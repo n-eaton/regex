{
 "cells": [
  {
   "cell_type": "code",
   "execution_count": 1,
   "id": "2869f9d3",
   "metadata": {},
   "outputs": [
    {
     "data": {
      "text/html": [
       "\n",
       "        <iframe\n",
       "            width=\"800\"\n",
       "            height=\"400\"\n",
       "            src=\"python-regex-cheatsheet.pdf\"\n",
       "            frameborder=\"0\"\n",
       "            allowfullscreen\n",
       "            \n",
       "        ></iframe>\n",
       "        "
      ],
      "text/plain": [
       "<IPython.lib.display.IFrame at 0x28e47958dc0>"
      ]
     },
     "execution_count": 1,
     "metadata": {},
     "output_type": "execute_result"
    }
   ],
   "source": [
    "from IPython.display import IFrame\n",
    "IFrame(\"python-regex-cheatsheet.pdf\", width=800, height=400)"
   ]
  },
  {
   "cell_type": "code",
   "execution_count": 2,
   "id": "34c1bfab",
   "metadata": {},
   "outputs": [
    {
     "data": {
      "text/html": [
       "\n",
       "        <iframe\n",
       "            width=\"800\"\n",
       "            height=\"400\"\n",
       "            src=\"davechild_regular-expressions.pdf\"\n",
       "            frameborder=\"0\"\n",
       "            allowfullscreen\n",
       "            \n",
       "        ></iframe>\n",
       "        "
      ],
      "text/plain": [
       "<IPython.lib.display.IFrame at 0x28e479776a0>"
      ]
     },
     "execution_count": 2,
     "metadata": {},
     "output_type": "execute_result"
    }
   ],
   "source": [
    "from IPython.display import IFrame\n",
    "IFrame(\"davechild_regular-expressions.pdf\", width=800, height=400)\n",
    "\n",
    "\n"
   ]
  },
  {
   "cell_type": "code",
   "execution_count": 9,
   "id": "8e23f6c3",
   "metadata": {},
   "outputs": [],
   "source": [
    "import re"
   ]
  },
  {
   "cell_type": "code",
   "execution_count": 11,
   "id": "e5dd6936",
   "metadata": {},
   "outputs": [],
   "source": [
    "# open .txt file using python\n",
    "file = open('./names.txt', encoding='utf-8')\n",
    "\n",
    "# read the data from .txt file\n",
    "data = file.read()\n",
    "\n",
    "# Always close your dada streams to any files. Memory leakage and good practice. \n",
    "file.close()  "
   ]
  },
  {
   "cell_type": "code",
   "execution_count": 37,
   "id": "8a49aca6",
   "metadata": {},
   "outputs": [],
   "source": [
    "# find(4,data) => <re.Match object; span (XX,XX), match = '5555'>"
   ]
  },
  {
   "cell_type": "code",
   "execution_count": 38,
   "id": "1f7b8c21",
   "metadata": {},
   "outputs": [
    {
     "data": {
      "text/plain": [
       "<re.Match object; span=(0, 7), match='Hawkins'>"
      ]
     },
     "execution_count": 38,
     "metadata": {},
     "output_type": "execute_result"
    }
   ],
   "source": [
    "# .match () check for a specific string from the beginning of the string \n",
    "# look for raw string of data (machine string) - string, without being processed by any language (py, java, etc. )\n",
    "\n",
    "re.match(r'Hawkins', data)"
   ]
  },
  {
   "cell_type": "code",
   "execution_count": 39,
   "id": "88412378",
   "metadata": {},
   "outputs": [],
   "source": [
    "re.match(r'Time Lord', data)"
   ]
  },
  {
   "cell_type": "code",
   "execution_count": 40,
   "id": "8bc84d6f",
   "metadata": {},
   "outputs": [
    {
     "data": {
      "text/plain": [
       "<re.Match object; span=(480, 489), match='Time Lord'>"
      ]
     },
     "execution_count": 40,
     "metadata": {},
     "output_type": "execute_result"
    }
   ],
   "source": [
    "# .search() looks for the first matching string in a string of text\n",
    "re.search(r'Time Lord', data)"
   ]
  },
  {
   "cell_type": "code",
   "execution_count": 41,
   "id": "1baea1c4",
   "metadata": {},
   "outputs": [
    {
     "data": {
      "text/plain": [
       "<re.Match object; span=(169, 176), match='Johnson'>"
      ]
     },
     "execution_count": 41,
     "metadata": {},
     "output_type": "execute_result"
    }
   ],
   "source": [
    "re.search('Johnson',data)"
   ]
  },
  {
   "cell_type": "code",
   "execution_count": 42,
   "id": "7fc9ba9c",
   "metadata": {},
   "outputs": [
    {
     "data": {
      "text/plain": [
       "<re.Match object; span=(6, 10), match='s, D'>"
      ]
     },
     "execution_count": 42,
     "metadata": {},
     "output_type": "execute_result"
    }
   ],
   "source": [
    "re.search(r'\\w, \\w', data)   # finds very first pattern that matches"
   ]
  },
  {
   "cell_type": "code",
   "execution_count": 43,
   "id": "e68195bc",
   "metadata": {},
   "outputs": [
    {
     "data": {
      "text/plain": [
       "<re.Match object; span=(0, 14), match='Hawkins, Derek'>"
      ]
     },
     "execution_count": 43,
     "metadata": {},
     "output_type": "execute_result"
    }
   ],
   "source": [
    "re.search(r'\\w\\w\\w\\w\\w\\w\\w, \\w\\w\\w\\w\\w' , data)"
   ]
  },
  {
   "cell_type": "code",
   "execution_count": 44,
   "id": "9c9b0263",
   "metadata": {},
   "outputs": [
    {
     "data": {
      "text/plain": [
       "<re.Match object; span=(0, 14), match='Hawkins, Derek'>"
      ]
     },
     "execution_count": 44,
     "metadata": {},
     "output_type": "execute_result"
    }
   ],
   "source": [
    "re.search(r'\\w{7}, \\w{5}', data)"
   ]
  },
  {
   "cell_type": "code",
   "execution_count": 45,
   "id": "6bfef25e",
   "metadata": {},
   "outputs": [
    {
     "data": {
      "text/plain": [
       "<re.Match object; span=(613, 625), match='555 555-5551'>"
      ]
     },
     "execution_count": 45,
     "metadata": {},
     "output_type": "execute_result"
    }
   ],
   "source": [
    "re.search(r'(\\d\\d\\d) \\d\\d\\d-\\d\\d\\d\\d', data)"
   ]
  },
  {
   "cell_type": "code",
   "execution_count": 47,
   "id": "23b5a9a5",
   "metadata": {},
   "outputs": [
    {
     "data": {
      "text/plain": [
       "<re.Match object; span=(38, 52), match='(555) 555-5555'>"
      ]
     },
     "execution_count": 47,
     "metadata": {},
     "output_type": "execute_result"
    }
   ],
   "source": [
    "re.search(r'\\(\\d\\d\\d\\) \\d\\d\\d-\\d\\d\\d\\d', data) #include parentheses"
   ]
  },
  {
   "cell_type": "markdown",
   "id": "ecc6e6d6",
   "metadata": {},
   "source": [
    "##### Exercise 1:\n",
    "<p> Write a function that checks for n number of consequitive digits and returns the match </p>"
   ]
  },
  {
   "cell_type": "code",
   "execution_count": 54,
   "id": "763a6dc6",
   "metadata": {},
   "outputs": [
    {
     "data": {
      "text/plain": [
       "<re.Match object; span=(48, 52), match='5555'>"
      ]
     },
     "execution_count": 54,
     "metadata": {},
     "output_type": "execute_result"
    }
   ],
   "source": [
    "def find_digits(number,searchable_text):\n",
    "    return re.search(r'\\d'*number, searchable_text)\n",
    "find_digits(4, data)"
   ]
  },
  {
   "cell_type": "code",
   "execution_count": 72,
   "id": "bb460bc2",
   "metadata": {},
   "outputs": [],
   "source": [
    "# .findall() looks for matching string anywhere in the searchable text string and stores each instance into\n",
    "\n",
    "phone_numbers = \"(555) 555-5555 555-555-5555 555 555-555\""
   ]
  },
  {
   "cell_type": "code",
   "execution_count": 73,
   "id": "d2316a83",
   "metadata": {},
   "outputs": [
    {
     "data": {
      "text/plain": [
       "['(555) 555-5555']"
      ]
     },
     "execution_count": 73,
     "metadata": {},
     "output_type": "execute_result"
    }
   ],
   "source": [
    "# find numbers with parans\n",
    "\n",
    "re.findall(r'\\(\\d{3}\\) \\d{3}-\\d{4}', phone_numbers)"
   ]
  },
  {
   "cell_type": "code",
   "execution_count": 76,
   "id": "99d72b64",
   "metadata": {},
   "outputs": [
    {
     "data": {
      "text/plain": [
       "['(555) 555-5555', '555-555-5555']"
      ]
     },
     "execution_count": 76,
     "metadata": {},
     "output_type": "execute_result"
    }
   ],
   "source": [
    "# also find numbers with parens and hyphens\n",
    "re.findall(r'\\(?\\d{3}\\)?\\s?-?\\d{3}-\\d{4}', phone_numbers)"
   ]
  },
  {
   "cell_type": "code",
   "execution_count": 94,
   "id": "0e5c8517",
   "metadata": {},
   "outputs": [
    {
     "data": {
      "text/plain": [
       "['(555) 555-5555', '555-555-5555']"
      ]
     },
     "execution_count": 94,
     "metadata": {},
     "output_type": "execute_result"
    }
   ],
   "source": [
    "re.findall(r'\\(?\\d{3}\\)?[-.\\s]?\\d{3}[-.\\s]?\\d{4}', phone_numbers)"
   ]
  },
  {
   "cell_type": "code",
   "execution_count": 95,
   "id": "8c6bb209",
   "metadata": {},
   "outputs": [
    {
     "data": {
      "text/plain": [
       "['Hawkins, Derek',\n",
       " 'Teacher, Coding',\n",
       " 'Milliken, Connor',\n",
       " 'Teacher, Coding',\n",
       " 'Johnson, Joe',\n",
       " 'Carter, Joel',\n",
       " 'Österberg, Sven',\n",
       " 'Governor, Norrbotten',\n",
       " 'Enchanter, Killer',\n",
       " 'Butz, Ryan',\n",
       " 'CEO, Coding',\n",
       " 'Doctor, The',\n",
       " 'Lord, Gallifrey',\n",
       " 'Exampleson, Example',\n",
       " 'Example, Example',\n",
       " 'Obama, Barack',\n",
       " 'President, United',\n",
       " 'Patel, Ripal',\n",
       " 'Teacher, Coding',\n",
       " 'Vader, Darth',\n",
       " 'Lord, Galactic',\n",
       " 'Sanz, María',\n",
       " 'Minister, Spanish']"
      ]
     },
     "execution_count": 95,
     "metadata": {},
     "output_type": "execute_result"
    }
   ],
   "source": [
    "# search for names\n",
    "re.findall(r'\\w+, \\w+', data)"
   ]
  },
  {
   "cell_type": "code",
   "execution_count": null,
   "id": "e2e571dd",
   "metadata": {},
   "outputs": [],
   "source": []
  },
  {
   "cell_type": "code",
   "execution_count": 106,
   "id": "135fbd2f",
   "metadata": {},
   "outputs": [
    {
     "data": {
      "text/plain": [
       "['derek@codingtemple.com',\n",
       " 'connor@codingtemple.com',\n",
       " 'joejohnson@codingtemple.com',\n",
       " 'governor@norrbotten.co.se',\n",
       " 'tim@killerrabbit.com',\n",
       " 'ryanb@codingtemple.com',\n",
       " 'doctor+companion@tardis.co.uk',\n",
       " 'me@example.com',\n",
       " 'president.44@us.gov',\n",
       " 'ripalp@codingtemple.com',\n",
       " 'vader@empire.gov',\n",
       " 'mtfvs@spain.gov']"
      ]
     },
     "execution_count": 106,
     "metadata": {},
     "output_type": "execute_result"
    }
   ],
   "source": [
    "# search for emails\n",
    "re.findall( r'[\\d\\w\\'-+.]+@[-.\\w\\d]+', data)   "
   ]
  },
  {
   "cell_type": "code",
   "execution_count": null,
   "id": "cf1ff712",
   "metadata": {},
   "outputs": [],
   "source": [
    "# re.VERBOSE/re.X -allows multiline regex\n",
    "#re.IGNORECASE/re.I- Ignores casing"
   ]
  },
  {
   "cell_type": "code",
   "execution_count": 245,
   "id": "16a9d47f",
   "metadata": {},
   "outputs": [
    {
     "data": {
      "text/plain": [
       "'\\n    Torey, Knight : tknight0@unicef.org : (487) 904-9011\\n    Sheila, Gehring : sgehring1@virginia.edu : (858) 260-1224\\n    Josefina, Gutans : jgutans2@instagram.com : (968) 318-0591\\n    Jaquith, Beltzner : jbeltzner3@google.co.uk : (342) 745-3357\\n    Giovanni, Roundtree : groundtree4@latimes.com : (134) 954-5349\\n    Milena, Biford : mbiford5@nature.com : (588) 381-7101\\n    Ashlin, Bygott : abygott6@timesonline.co.uk : (418) 938-4119\\n    Willie, Bonicelli : wbonicelli7@google.cn : (882) 134-9746\\n    Constancia, Dove : cdove8@msn.com : (913) 268-4215\\n    Kristel, Freathy : kfreathy9@mit.edu : (600) 135-7071\\n'"
      ]
     },
     "execution_count": 245,
     "metadata": {},
     "output_type": "execute_result"
    }
   ],
   "source": [
    "information = \"\"\"\n",
    "    Torey, Knight : tknight0@unicef.org : (487) 904-9011\n",
    "    Sheila, Gehring : sgehring1@virginia.edu : (858) 260-1224\n",
    "    Josefina, Gutans : jgutans2@instagram.com : (968) 318-0591\n",
    "    Jaquith, Beltzner : jbeltzner3@google.co.uk : (342) 745-3357\n",
    "    Giovanni, Roundtree : groundtree4@latimes.com : (134) 954-5349\n",
    "    Milena, Biford : mbiford5@nature.com : (588) 381-7101\n",
    "    Ashlin, Bygott : abygott6@timesonline.co.uk : (418) 938-4119\n",
    "    Willie, Bonicelli : wbonicelli7@google.cn : (882) 134-9746\n",
    "    Constancia, Dove : cdove8@msn.com : (913) 268-4215\n",
    "    Kristel, Freathy : kfreathy9@mit.edu : (600) 135-7071\n",
    "\"\"\"\n",
    "information"
   ]
  },
  {
   "cell_type": "code",
   "execution_count": 246,
   "id": "5cc9c339",
   "metadata": {},
   "outputs": [
    {
     "data": {
      "text/plain": [
       "['@unicef.org',\n",
       " '@virginia.edu',\n",
       " '@instagram.com',\n",
       " '@google.co.uk',\n",
       " '@latimes.com',\n",
       " '@nature.com',\n",
       " '@timesonline.co.uk',\n",
       " '@google.cn',\n",
       " '@msn.com',\n",
       " '@mit.edu']"
      ]
     },
     "execution_count": 246,
     "metadata": {},
     "output_type": "execute_result"
    }
   ],
   "source": [
    "re.findall( r'''\n",
    "    @[-.\\w\\d]+ # @symbol, one or more number/digit characters\n",
    "''', information, re.X|re.I)"
   ]
  },
  {
   "cell_type": "code",
   "execution_count": 247,
   "id": "91306cc2",
   "metadata": {},
   "outputs": [],
   "source": [
    "# Standirtized way of pullind data out of text:"
   ]
  },
  {
   "cell_type": "code",
   "execution_count": 248,
   "id": "349647fa",
   "metadata": {},
   "outputs": [
    {
     "data": {
      "text/plain": [
       "[(' Torey, Knight', ' : tknight0@unicef.org', ' : (487) 904-9011'),\n",
       " (' Sheila, Gehring', ' : sgehring1@virginia.edu', ' : (858) 260-1224'),\n",
       " (' Josefina, Gutans', ' : jgutans2@instagram.com', ' : (968) 318-0591'),\n",
       " (' Jaquith, Beltzner', ' : jbeltzner3@google.co.uk', ' : (342) 745-3357'),\n",
       " (' Giovanni, Roundtree', ' : groundtree4@latimes.com', ' : (134) 954-5349'),\n",
       " (' Milena, Biford', ' : mbiford5@nature.com', ' : (588) 381-7101'),\n",
       " (' Ashlin, Bygott', ' : abygott6@timesonline.co.uk', ' : (418) 938-4119'),\n",
       " (' Willie, Bonicelli', ' : wbonicelli7@google.cn', ' : (882) 134-9746'),\n",
       " (' Constancia, Dove', ' : cdove8@msn.com', ' : (913) 268-4215'),\n",
       " (' Kristel, Freathy', ' : kfreathy9@mit.edu', ' : (600) 135-7071')]"
      ]
     },
     "execution_count": 248,
     "metadata": {},
     "output_type": "execute_result"
    }
   ],
   "source": [
    "info = re.findall(r'''\n",
    "    (\\s[\\w]+,\\s[\\w]+)                      # first,last name\n",
    "    (\\s:\\s[\\d\\w\\'+.]+@[-.\\w\\d]+)           # email\n",
    "    (\\s:\\s\\(?\\d{3}\\)?\\s?-?\\d{3}-\\d{4})     # phone\n",
    "''', information, re.X)\n",
    "info"
   ]
  },
  {
   "cell_type": "code",
   "execution_count": 250,
   "id": "651194ad",
   "metadata": {
    "scrolled": true
   },
   "outputs": [
    {
     "data": {
      "text/plain": [
       "[{'name': ' Torey, Knight',\n",
       "  'email': ' tknight0@unicef.org',\n",
       "  'phone': '(487) 904-9011'},\n",
       " {'name': ' Sheila, Gehring',\n",
       "  'email': ' sgehring1@virginia.edu',\n",
       "  'phone': '(858) 260-1224'},\n",
       " {'name': ' Josefina, Gutans',\n",
       "  'email': ' jgutans2@instagram.com',\n",
       "  'phone': '(968) 318-0591'},\n",
       " {'name': ' Jaquith, Beltzner',\n",
       "  'email': ' jbeltzner3@google.co.uk',\n",
       "  'phone': '(342) 745-3357'},\n",
       " {'name': ' Giovanni, Roundtree',\n",
       "  'email': ' groundtree4@latimes.com',\n",
       "  'phone': '(134) 954-5349'},\n",
       " {'name': ' Milena, Biford',\n",
       "  'email': ' mbiford5@nature.com',\n",
       "  'phone': '(588) 381-7101'},\n",
       " {'name': ' Ashlin, Bygott',\n",
       "  'email': ' abygott6@timesonline.co.uk',\n",
       "  'phone': '(418) 938-4119'},\n",
       " {'name': ' Willie, Bonicelli',\n",
       "  'email': ' wbonicelli7@google.cn',\n",
       "  'phone': '(882) 134-9746'},\n",
       " {'name': ' Constancia, Dove',\n",
       "  'email': ' cdove8@msn.com',\n",
       "  'phone': '(913) 268-4215'},\n",
       " {'name': ' Kristel, Freathy',\n",
       "  'email': ' kfreathy9@mit.edu',\n",
       "  'phone': '(600) 135-7071'}]"
      ]
     },
     "execution_count": 250,
     "metadata": {},
     "output_type": "execute_result"
    }
   ],
   "source": [
    "info_list =[]\n",
    "for tup in info:\n",
    "    obj_data ={\n",
    "        'name': tup[0],\n",
    "        'email': tup[1][2:],\n",
    "        'phone': tup[2][3:]\n",
    "    }\n",
    "    info_list.append(obj_data)\n",
    "info_list"
   ]
  },
  {
   "cell_type": "markdown",
   "id": "59f811c6",
   "metadata": {},
   "source": [
    "###### Compile method"
   ]
  },
  {
   "cell_type": "code",
   "execution_count": 261,
   "id": "c6bec3a9",
   "metadata": {},
   "outputs": [
    {
     "data": {
      "text/plain": [
       "['(487) 904-9011',\n",
       " '(858) 260-1224',\n",
       " '(968) 318-0591',\n",
       " '(342) 745-3357',\n",
       " '(134) 954-5349',\n",
       " '(588) 381-7101',\n",
       " '(418) 938-4119',\n",
       " '(882) 134-9746',\n",
       " '(913) 268-4215',\n",
       " '(600) 135-7071']"
      ]
     },
     "execution_count": 261,
     "metadata": {},
     "output_type": "execute_result"
    }
   ],
   "source": [
    "pat = re.compile(r'(\\(\\d{3}\\)\\s*\\d{3}-\\d{4})')\n",
    "pat.findall(information)"
   ]
  },
  {
   "cell_type": "code",
   "execution_count": 253,
   "id": "466d929d",
   "metadata": {},
   "outputs": [
    {
     "data": {
      "text/plain": [
       "re.compile(r\"       \\n    (?P<name>\\s[\\w]+,\\s[\\w]+)\\n    (?P<email>\\s:\\s[\\d\\w\\'+.]+@[-.\\w\\d]+)\\n    (?P<phone>\\s:\\s\\(?\\d{3}\\)?\\s?-?\\d{3}-\\d{4})\\n\",\n",
       "re.UNICODE|re.VERBOSE)"
      ]
     },
     "execution_count": 253,
     "metadata": {},
     "output_type": "execute_result"
    }
   ],
   "source": [
    "compiler = re.compile(r'''       \n",
    "    (?P<name>\\s[\\w]+,\\s[\\w]+)\n",
    "    (?P<email>\\s:\\s[\\d\\w\\'+.]+@[-.\\w\\d]+)\n",
    "    (?P<phone>\\s:\\s\\(?\\d{3}\\)?\\s?-?\\d{3}-\\d{4})\n",
    "''', re.X)\n",
    "compiler"
   ]
  },
  {
   "cell_type": "code",
   "execution_count": 254,
   "id": "3a7a9b41",
   "metadata": {},
   "outputs": [
    {
     "data": {
      "text/plain": [
       "<callable_iterator at 0x21392bcb580>"
      ]
     },
     "execution_count": 254,
     "metadata": {},
     "output_type": "execute_result"
    }
   ],
   "source": [
    "info.finditer(information)    # accept the actual data "
   ]
  },
  {
   "cell_type": "code",
   "execution_count": 256,
   "id": "11fd17b7",
   "metadata": {},
   "outputs": [
    {
     "name": "stdout",
     "output_type": "stream",
     "text": [
      "Name:  Torey, Knight\n",
      "Email:  tknight0@unicef.org\n",
      "Phone: (487) 904-9011\n",
      "\n",
      "Name:  Sheila, Gehring\n",
      "Email:  sgehring1@virginia.edu\n",
      "Phone: (858) 260-1224\n",
      "\n",
      "Name:  Josefina, Gutans\n",
      "Email:  jgutans2@instagram.com\n",
      "Phone: (968) 318-0591\n",
      "\n",
      "Name:  Jaquith, Beltzner\n",
      "Email:  jbeltzner3@google.co.uk\n",
      "Phone: (342) 745-3357\n",
      "\n",
      "Name:  Giovanni, Roundtree\n",
      "Email:  groundtree4@latimes.com\n",
      "Phone: (134) 954-5349\n",
      "\n",
      "Name:  Milena, Biford\n",
      "Email:  mbiford5@nature.com\n",
      "Phone: (588) 381-7101\n",
      "\n",
      "Name:  Ashlin, Bygott\n",
      "Email:  abygott6@timesonline.co.uk\n",
      "Phone: (418) 938-4119\n",
      "\n",
      "Name:  Willie, Bonicelli\n",
      "Email:  wbonicelli7@google.cn\n",
      "Phone: (882) 134-9746\n",
      "\n",
      "Name:  Constancia, Dove\n",
      "Email:  cdove8@msn.com\n",
      "Phone: (913) 268-4215\n",
      "\n",
      "Name:  Kristel, Freathy\n",
      "Email:  kfreathy9@mit.edu\n",
      "Phone: (600) 135-7071\n",
      "\n"
     ]
    }
   ],
   "source": [
    "for i in compiler.finditer(information):\n",
    "    print(f\"Name: {i.group('name')}\\nEmail: {i.group('email')[2:]}\\nPhone: {i.group('phone')[3:]}\\n\")"
   ]
  },
  {
   "cell_type": "markdown",
   "id": "46ace83d",
   "metadata": {},
   "source": [
    "##### Exercise :\n",
    "<p> Use regular expressin to find every number in a given string </p> "
   ]
  },
  {
   "cell_type": "code",
   "execution_count": 7,
   "id": "b294f7c0",
   "metadata": {
    "scrolled": true
   },
   "outputs": [
    {
     "name": "stdout",
     "output_type": "stream",
     "text": [
      "['1', '90', '32', '45433', '890', '45', '43', '42']\n"
     ]
    }
   ],
   "source": [
    "def getNumbers(str):\n",
    "    array = re.findall(r'[0-9]+', str)\n",
    "    return array\n",
    "  \n",
    "# Driver code\n",
    "str = \"ad1b90v32sdsdgret45433fsff890fgddgsgg--45hj43hvb42\"\n",
    "array = getNumbers(str)\n",
    "print(array)"
   ]
  },
  {
   "cell_type": "code",
   "execution_count": 13,
   "id": "bd79b39f",
   "metadata": {},
   "outputs": [
    {
     "data": {
      "text/plain": [
       "['(555) 555-5555',\n",
       " '(555) 555-5554',\n",
       " '(555) 555-5543',\n",
       " '555-555-5552',\n",
       " '555 555-5551',\n",
       " '(555) 555-5553',\n",
       " '(555) 555-4444']"
      ]
     },
     "execution_count": 13,
     "metadata": {},
     "output_type": "execute_result"
    }
   ],
   "source": [
    "re.findall(r'\\(?\\d{3}\\)?\\s?-?\\d{3}-\\d{4}', data) "
   ]
  },
  {
   "cell_type": "code",
   "execution_count": 14,
   "id": "68e882c4",
   "metadata": {},
   "outputs": [
    {
     "data": {
      "text/plain": [
       "['derek@codingtemple.com',\n",
       " 'connor@codingtemple.com',\n",
       " 'joejohnson@codingtemple.com',\n",
       " 'governor@norrbotten.co.se',\n",
       " 'tim@killerrabbit.com',\n",
       " 'ryanb@codingtemple.com',\n",
       " 'doctor+companion@tardis.co.uk',\n",
       " 'me@example.com',\n",
       " 'president.44@us.gov',\n",
       " 'ripalp@codingtemple.com',\n",
       " 'vader@empire.gov',\n",
       " 'mtfvs@spain.gov']"
      ]
     },
     "execution_count": 14,
     "metadata": {},
     "output_type": "execute_result"
    }
   ],
   "source": [
    "# email\n",
    "re.findall(r'[\\d\\w\\'-+.]+@[-.\\w\\d]+', data) "
   ]
  },
  {
   "cell_type": "code",
   "execution_count": 15,
   "id": "5f04756a",
   "metadata": {},
   "outputs": [
    {
     "data": {
      "text/plain": [
       "['@codingtemple',\n",
       " '@derekhawkins',\n",
       " '@codingtemple',\n",
       " '@codingtemple',\n",
       " '@norrbotten',\n",
       " '@sverik',\n",
       " '@killerrabbit',\n",
       " '@codingtemple',\n",
       " '@ryanbutz',\n",
       " '@tardis',\n",
       " '@example',\n",
       " '@example',\n",
       " '@us',\n",
       " '@potus44',\n",
       " '@codingtemple',\n",
       " '@ripalp',\n",
       " '@empire',\n",
       " '@darthvader',\n",
       " '@spain']"
      ]
     },
     "execution_count": 15,
     "metadata": {},
     "output_type": "execute_result"
    }
   ],
   "source": [
    "#Twitter handle\n",
    "re.findall(r'@[\\w\\d]+',data) "
   ]
  }
 ],
 "metadata": {
  "kernelspec": {
   "display_name": "Python 3 (ipykernel)",
   "language": "python",
   "name": "python3"
  },
  "language_info": {
   "codemirror_mode": {
    "name": "ipython",
    "version": 3
   },
   "file_extension": ".py",
   "mimetype": "text/x-python",
   "name": "python",
   "nbconvert_exporter": "python",
   "pygments_lexer": "ipython3",
   "version": "3.8.12"
  }
 },
 "nbformat": 4,
 "nbformat_minor": 5
}
