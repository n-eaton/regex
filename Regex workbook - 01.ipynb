{
 "cells": [
  {
   "cell_type": "code",
   "execution_count": 64,
   "id": "e7574da7",
   "metadata": {},
   "outputs": [],
   "source": [
    "import re"
   ]
  },
  {
   "cell_type": "markdown",
   "id": "40fb1306",
   "metadata": {},
   "source": [
    "<p> findall - returns a list containing all matches</p>\n",
    "<p> search - returns a match object if there is a match anywhere in the string</p>"
   ]
  },
  {
   "cell_type": "code",
   "execution_count": 71,
   "id": "2b7345cc",
   "metadata": {},
   "outputs": [
    {
     "name": "stdout",
     "output_type": "stream",
     "text": [
      "['34', '56']\n",
      "<re.Match object; span=(28, 30), match='34'>\n"
     ]
    }
   ],
   "source": [
    "\n",
    "pattern=r'\\d{2}'  # returns 2 digits\n",
    "text = \"The score of the player was 34 runs from 56 balls\"\n",
    "\n",
    "print(re.findall(pattern, text))\n",
    "print(re.search(pattern, text))"
   ]
  },
  {
   "cell_type": "code",
   "execution_count": 77,
   "id": "3f545774",
   "metadata": {},
   "outputs": [
    {
     "name": "stdout",
     "output_type": "stream",
     "text": [
      "[]\n",
      "None\n"
     ]
    }
   ],
   "source": [
    "pattern=r'\\d{}'  #an empty list\n",
    "text = \"The score of the player was 34 runs from 56 balls in 8 overs\"\n",
    "\n",
    "print(re.findall(pattern, text))\n",
    "print(re.search(pattern, text))"
   ]
  },
  {
   "cell_type": "code",
   "execution_count": 78,
   "id": "82a0883a",
   "metadata": {},
   "outputs": [
    {
     "name": "stdout",
     "output_type": "stream",
     "text": [
      "['34', '56', '8']\n",
      "<re.Match object; span=(28, 30), match='34'>\n"
     ]
    }
   ],
   "source": [
    "pattern=r'\\d{1,3}'  # \n",
    "text = \"The score of the player was 34 runs from 56 balls in 8 overs\"\n",
    "\n",
    "print(re.findall(pattern, text))\n",
    "print(re.search(pattern, text))"
   ]
  },
  {
   "cell_type": "code",
   "execution_count": 79,
   "id": "cc692aaf",
   "metadata": {},
   "outputs": [
    {
     "name": "stdout",
     "output_type": "stream",
     "text": [
      "['34', '56', '8', '456', '3']\n",
      "<re.Match object; span=(28, 30), match='34'>\n"
     ]
    }
   ],
   "source": [
    "pattern=r'\\d{1,3}'  #does't give 4 digits\n",
    "text = \"The score of the player was 34 runs from 56 balls in 8 overs 4563\"\n",
    "\n",
    "print(re.findall(pattern, text))\n",
    "print(re.search(pattern, text))"
   ]
  },
  {
   "cell_type": "code",
   "execution_count": 81,
   "id": "aa7306c4",
   "metadata": {},
   "outputs": [
    {
     "name": "stdout",
     "output_type": "stream",
     "text": [
      "['34', '56', '8', '876']\n",
      "<re.Match object; span=(28, 30), match='34'>\n"
     ]
    }
   ],
   "source": [
    "pattern=r'\\d{1,3}\\b'  #\\b boundry\n",
    "text = \"The score of the player was 34 runs from 56 balls in 8 overs 9876\"\n",
    "\n",
    "print(re.findall(pattern, text))\n",
    "print(re.search(pattern, text))"
   ]
  },
  {
   "cell_type": "code",
   "execution_count": 82,
   "id": "a7160373",
   "metadata": {},
   "outputs": [
    {
     "name": "stdout",
     "output_type": "stream",
     "text": [
      "['34', '56', '8']\n",
      "<re.Match object; span=(28, 30), match='34'>\n"
     ]
    }
   ],
   "source": [
    "pattern=r'\\b\\d{1,3}\\b'  #\\b - boundry\n",
    "text = \"The score of the player was 34 runs from 56 balls in 8 overs 9876\"\n",
    "\n",
    "print(re.findall(pattern, text))\n",
    "print(re.search(pattern, text))"
   ]
  },
  {
   "cell_type": "code",
   "execution_count": 83,
   "id": "ed559515",
   "metadata": {},
   "outputs": [
    {
     "name": "stdout",
     "output_type": "stream",
     "text": [
      "[' ', ' ', ' ', ' ', ' ', ' ', ' ', ' ', ' ', ' ', ' ', ' ', ' ', ' ']\n",
      "<re.Match object; span=(3, 4), match=' '>\n"
     ]
    }
   ],
   "source": [
    "pattern=r'\\s'  #returns an empty string\n",
    "text = \"The score of the player was 34 runs from 56 balls in 8 overs 9876\"\n",
    "\n",
    "print(re.findall(pattern, text))\n",
    "print(re.search(pattern, text))"
   ]
  },
  {
   "cell_type": "code",
   "execution_count": 84,
   "id": "9dc42316",
   "metadata": {},
   "outputs": [
    {
     "name": "stdout",
     "output_type": "stream",
     "text": [
      "['T', 'h', 'e', 's', 'c', 'o', 'r', 'e', 'o', 'f', 't', 'h', 'e', 'p', 'l', 'a', 'y', 'e', 'r', 'w', 'a', 's', '3', '4', 'r', 'u', 'n', 's', 'f', 'r', 'o', 'm', '5', '6', 'b', 'a', 'l', 'l', 's', 'i', 'n', '8', 'o', 'v', 'e', 'r', 's', '9', '8', '7', '6']\n",
      "<re.Match object; span=(0, 1), match='T'>\n"
     ]
    }
   ],
   "source": [
    "pattern=r'\\S'  #\n",
    "text = \"The score of the player was 34 runs from 56 balls in 8 overs 9876\"\n",
    "\n",
    "print(re.findall(pattern, text))\n",
    "print(re.search(pattern, text))"
   ]
  },
  {
   "cell_type": "code",
   "execution_count": 85,
   "id": "f7da76e8",
   "metadata": {},
   "outputs": [
    {
     "name": "stdout",
     "output_type": "stream",
     "text": [
      "[' s', ' o', ' t', ' p', ' w', ' 3', ' r', ' f', ' 5', ' b', ' i', ' 8', ' o', ' 9']\n",
      "<re.Match object; span=(3, 5), match=' s'>\n"
     ]
    }
   ],
   "source": [
    "pattern=r'\\s\\S'  # first letter or digit \n",
    "text = \"The score of the player was 34 runs from 56 balls in 8 overs 9876\"\n",
    "\n",
    "print(re.findall(pattern, text))\n",
    "print(re.search(pattern, text))"
   ]
  },
  {
   "cell_type": "code",
   "execution_count": 86,
   "id": "1d1ac876",
   "metadata": {},
   "outputs": [
    {
     "name": "stdout",
     "output_type": "stream",
     "text": [
      "['T', 'h', 'e', ' ', 's', 'c', 'o', 'r', 'e', ' ', 'o', 'f', ' ', 't', 'h', 'e', ' ', 'p', 'l', 'a', 'y', 'e', 'r', ' ', 'w', 'a', 's', ' ', '3', '4', ' ', 'r', 'u', 'n', 's', ' ', 'f', 'r', 'o', 'm', ' ', '5', '6', ' ', 'b', 'a', 'l', 'l', 's', ' ', 'i', 'n', ' ', '8', ' ', 'o', 'v', 'e', 'r', 's', ' ', '9', '8', '7', '6']\n",
      "<re.Match object; span=(0, 1), match='T'>\n"
     ]
    }
   ],
   "source": [
    "pattern=r'.'  #check any character\n",
    "text = \"The score of the player was 34 runs from 56 balls in 8 overs 9876\"\n",
    "\n",
    "print(re.findall(pattern, text))\n",
    "print(re.search(pattern, text))"
   ]
  },
  {
   "cell_type": "code",
   "execution_count": 87,
   "id": "6b0a70fe",
   "metadata": {},
   "outputs": [
    {
     "name": "stdout",
     "output_type": "stream",
     "text": [
      "['T', 'h', 'e', 's', 'c', 'o', 'r', 'e', 'o', 'f', 't', 'h', 'e', 'p', 'l', 'a', 'y', 'e', 'r', 'w', 'a', 's', '3', '4', 'r', 'u', 'n', 's', 'f', 'r', 'o', 'm', '5', '6', 'b', 'a', 'l', 'l', 's', 'i', 'n', '8', 'o', 'v', 'e', 'r', 's', '9', '8', '7', '6']\n",
      "<re.Match object; span=(0, 1), match='T'>\n"
     ]
    }
   ],
   "source": [
    "pattern=r'\\w'  # everything\n",
    "text = \"The score of the player was 34 runs from 56 balls in 8 overs 9876\"\n",
    "\n",
    "print(re.findall(pattern, text))\n",
    "print(re.search(pattern, text))"
   ]
  },
  {
   "cell_type": "code",
   "execution_count": 88,
   "id": "46958cb5",
   "metadata": {},
   "outputs": [
    {
     "name": "stdout",
     "output_type": "stream",
     "text": [
      "[' ', ' ', ' ', ' ', ' ', ' ', ' ', ' ', ' ', ' ', ' ', ' ', ' ', ' ']\n",
      "<re.Match object; span=(3, 4), match=' '>\n"
     ]
    }
   ],
   "source": [
    "pattern=r'\\W'  # everything apart prom the characters\n",
    "text = \"The score of the player was 34 runs from 56 balls in 8 overs 9876\"\n",
    "\n",
    "print(re.findall(pattern, text))\n",
    "print(re.search(pattern, text))"
   ]
  },
  {
   "cell_type": "code",
   "execution_count": 89,
   "id": "43d7a775",
   "metadata": {},
   "outputs": [
    {
     "name": "stdout",
     "output_type": "stream",
     "text": [
      "['c', 'a', 'a', 'b', 'a']\n",
      "<re.Match object; span=(5, 6), match='c'>\n"
     ]
    }
   ],
   "source": [
    "pattern=r'[a-c]'  #check all characters between \"a\" to \"c\"\n",
    "text = \"The score of the player was 34 runs from 56 balls in 8 overs 9876\"\n",
    "\n",
    "print(re.findall(pattern, text))\n",
    "print(re.search(pattern, text))"
   ]
  },
  {
   "cell_type": "code",
   "execution_count": 90,
   "id": "24494e01",
   "metadata": {},
   "outputs": [
    {
     "name": "stdout",
     "output_type": "stream",
     "text": [
      "['T']\n",
      "<re.Match object; span=(0, 1), match='T'>\n"
     ]
    }
   ],
   "source": [
    "pattern=r'[A-Z]'  # all capital\n",
    "text = \"The score of the player was 34 runs from 56 balls in 8 overs 9876\"\n",
    "\n",
    "print(re.findall(pattern, text))\n",
    "print(re.search(pattern, text))"
   ]
  },
  {
   "cell_type": "code",
   "execution_count": 91,
   "id": "879ec32d",
   "metadata": {},
   "outputs": [
    {
     "name": "stdout",
     "output_type": "stream",
     "text": [
      "['h', 'e', 's', 'c', 'o', 'r', 'e', 'o', 'f', 't', 'h', 'e', 'p', 'l', 'a', 'y', 'e', 'r', 'w', 'a', 's', 'r', 'u', 'n', 's', 'f', 'r', 'o', 'm', 'b', 'a', 'l', 'l', 's', 'i', 'n', 'o', 'v', 'e', 'r', 's']\n",
      "<re.Match object; span=(1, 2), match='h'>\n"
     ]
    }
   ],
   "source": [
    "pattern=r'[a-z]'  # all small\n",
    "text = \"The score of the player was 34 runs from 56 balls in 8 overs 9876\"\n",
    "\n",
    "print(re.findall(pattern, text))\n",
    "print(re.search(pattern, text))"
   ]
  },
  {
   "cell_type": "code",
   "execution_count": 92,
   "id": "89331448",
   "metadata": {},
   "outputs": [
    {
     "name": "stdout",
     "output_type": "stream",
     "text": [
      "['3', '4', '5', '6', '8', '9', '8', '7', '6']\n",
      "<re.Match object; span=(28, 29), match='3'>\n"
     ]
    }
   ],
   "source": [
    "pattern=r'[0-9]'  # numbers\n",
    "text = \"The score of the player was 34 runs from 56 balls in 8 overs 9876\"\n",
    "\n",
    "print(re.findall(pattern, text))\n",
    "print(re.search(pattern, text))"
   ]
  },
  {
   "cell_type": "code",
   "execution_count": 95,
   "id": "4cf9b6e6",
   "metadata": {},
   "outputs": [
    {
     "name": "stdout",
     "output_type": "stream",
     "text": [
      "[]\n",
      "None\n"
     ]
    }
   ],
   "source": [
    "pattern=r'[a-z][0-9]'  #\n",
    "text = \"The score of the player was 34 runs from 56 balls in 8 overs 9876\"\n",
    "\n",
    "print(re.findall(pattern, text))\n",
    "print(re.search(pattern, text))"
   ]
  },
  {
   "cell_type": "code",
   "execution_count": 96,
   "id": "8d98b292",
   "metadata": {},
   "outputs": [
    {
     "name": "stdout",
     "output_type": "stream",
     "text": [
      "['play']\n",
      "<re.Match object; span=(17, 21), match='play'>\n"
     ]
    }
   ],
   "source": [
    "pattern=r'play'  # check for a specific word \"play\"\n",
    "text = \"The score of the player was 34 runs from 56 balls in 8 overs 9876\"\n",
    "\n",
    "print(re.findall(pattern, text)) #returning a word player\n",
    "print(re.search(pattern, text))"
   ]
  },
  {
   "cell_type": "code",
   "execution_count": 98,
   "id": "d48250bc",
   "metadata": {},
   "outputs": [
    {
     "name": "stdout",
     "output_type": "stream",
     "text": [
      "['play']\n",
      "<re.Match object; span=(66, 70), match='play'>\n"
     ]
    }
   ],
   "source": [
    "pattern=r'\\bplay\\b'  # check for a specific word \"play\"\n",
    "text = \"The score of the player was 34 runs from 56 balls in 8 overs 9876 play\"\n",
    "\n",
    "print(re.findall(pattern, text))\n",
    "print(re.search(pattern, text))"
   ]
  },
  {
   "cell_type": "code",
   "execution_count": 99,
   "id": "a1d7ead4",
   "metadata": {},
   "outputs": [
    {
     "name": "stdout",
     "output_type": "stream",
     "text": [
      "[]\n",
      "None\n"
     ]
    }
   ],
   "source": [
    "pattern=r'^play'  #checks if the word in the beginning of the string\n",
    "text = \"The score of the player was 34 runs from 56 balls in 8 overs 9876\"\n",
    "\n",
    "print(re.findall(pattern, text))\n",
    "print(re.search(pattern, text))"
   ]
  },
  {
   "cell_type": "code",
   "execution_count": 100,
   "id": "35a1a23c",
   "metadata": {},
   "outputs": [
    {
     "name": "stdout",
     "output_type": "stream",
     "text": [
      "['The']\n",
      "<re.Match object; span=(0, 3), match='The'>\n"
     ]
    }
   ],
   "source": [
    "pattern=r'^The'  #checks if the word in the beginning of the string\n",
    "text = \"The score of the player was 34 runs from 56 balls in 8 overs 9876\"\n",
    "\n",
    "print(re.findall(pattern, text))\n",
    "print(re.search(pattern, text))"
   ]
  },
  {
   "cell_type": "code",
   "execution_count": 101,
   "id": "8ccb3c79",
   "metadata": {},
   "outputs": [
    {
     "name": "stdout",
     "output_type": "stream",
     "text": [
      "['over']\n",
      "<re.Match object; span=(55, 59), match='over'>\n"
     ]
    }
   ],
   "source": [
    "pattern=r'over$'  #checks if the word at the end of the string\n",
    "text = \"The score of the player was 34 runs from 56 balls in 8 over\"\n",
    "\n",
    "print(re.findall(pattern, text))\n",
    "print(re.search(pattern, text))"
   ]
  },
  {
   "cell_type": "code",
   "execution_count": 107,
   "id": "26b9f813",
   "metadata": {},
   "outputs": [
    {
     "name": "stdout",
     "output_type": "stream",
     "text": [
      "['the', 'the', 'the', 'th']\n",
      "<re.Match object; span=(13, 16), match='the'>\n"
     ]
    }
   ],
   "source": [
    "pattern=r'the*'  #zero or more occurances of 'e' followed by 'th'\n",
    "text = \"The score of the player was 34 runs from 56 balls in 8 overs 9876 they there th\"\n",
    "\n",
    "print(re.findall(pattern, text))\n",
    "print(re.search(pattern, text))"
   ]
  },
  {
   "cell_type": "code",
   "execution_count": 108,
   "id": "46879f50",
   "metadata": {},
   "outputs": [
    {
     "name": "stdout",
     "output_type": "stream",
     "text": [
      "['the', 'the', 'the']\n",
      "<re.Match object; span=(13, 16), match='the'>\n"
     ]
    }
   ],
   "source": [
    "pattern=r'the+'  #one or more occurances of 'e' followed by 'th'  \n",
    "text = \"The score of the player was 34 runs from 56 balls in 8 overs 9876 they there th\"  \n",
    "\n",
    "print(re.findall(pattern, text))\n",
    "print(re.search(pattern, text))"
   ]
  },
  {
   "cell_type": "code",
   "execution_count": 110,
   "id": "c84e74d5",
   "metadata": {},
   "outputs": [
    {
     "name": "stdout",
     "output_type": "stream",
     "text": [
      "['the', 'the', 'the', 'the']\n",
      "<re.Match object; span=(13, 16), match='the'>\n"
     ]
    }
   ],
   "source": [
    "pattern=r'the?'  #zero or one occurances of 'e' followed by 'th'  \n",
    "text = \"The score of the player was 34 runs from 56 balls in 8 overs 9876 they there thee\"  \n",
    "\n",
    "print(re.findall(pattern, text))\n",
    "print(re.search(pattern, text))"
   ]
  },
  {
   "cell_type": "code",
   "execution_count": 111,
   "id": "002cac6e",
   "metadata": {},
   "outputs": [
    {
     "name": "stdout",
     "output_type": "stream",
     "text": [
      "['the']\n",
      "<re.Match object; span=(13, 16), match='the'>\n"
     ]
    }
   ],
   "source": [
    "pattern=r'the?\\b'  #zero or one occurances of 'e' followed by 'th'  \n",
    "text = \"The score of the player was 34 runs from 56 balls in 8 overs 9876 they there thee\"  \n",
    "\n",
    "print(re.findall(pattern, text))\n",
    "print(re.search(pattern, text))"
   ]
  },
  {
   "cell_type": "code",
   "execution_count": 113,
   "id": "b9c03e33",
   "metadata": {},
   "outputs": [
    {
     "name": "stdout",
     "output_type": "stream",
     "text": [
      "['the']\n",
      "<re.Match object; span=(13, 16), match='the'>\n"
     ]
    }
   ],
   "source": [
    "pattern=r'the{1}\\b'  #check if the string containes 'th'  followed by exactly one 'e'\n",
    "text = \"The score of the player was 34 runs from 56 balls in 8 overs 9876 they there thee\"  \n",
    "\n",
    "print(re.findall(pattern, text))\n",
    "print(re.search(pattern, text))"
   ]
  },
  {
   "cell_type": "code",
   "execution_count": 114,
   "id": "45043e39",
   "metadata": {},
   "outputs": [
    {
     "name": "stdout",
     "output_type": "stream",
     "text": [
      "['the', 'was', 'the', 'the', 'the']\n",
      "<re.Match object; span=(13, 16), match='the'>\n"
     ]
    }
   ],
   "source": [
    "pattern=r'the|was'  # the alternative word\n",
    "text = \"The score of the player was 34 runs from 56 balls in 8 overs 9876 they there thee\"  \n",
    "\n",
    "print(re.findall(pattern, text))\n",
    "print(re.search(pattern, text))"
   ]
  },
  {
   "cell_type": "markdown",
   "id": "fd2b40de",
   "metadata": {},
   "source": [
    "# "
   ]
  },
  {
   "cell_type": "markdown",
   "id": "cda9d2a0",
   "metadata": {},
   "source": [
    "### SETS"
   ]
  },
  {
   "cell_type": "code",
   "execution_count": 115,
   "id": "294d5ad2",
   "metadata": {},
   "outputs": [
    {
     "name": "stdout",
     "output_type": "stream",
     "text": [
      "['o', 'r', 'o', 'r', 'r', 'r', 'o', 'i', 'o', 'r', 'r']\n"
     ]
    }
   ],
   "source": [
    "# finding one of the CHARACTER\n",
    "# use case - find Junk character in large text. --> $, '',', ~,`\n",
    "\n",
    "pattern=r'[ori]'  #  if 'o','r','i' in the string  \n",
    "text = \"The score of the player was 34 runs` from 56 balls ~ in 8 overs 9876 they there $$thee\"  \n",
    "\n",
    "print(re.findall(pattern, text))"
   ]
  },
  {
   "cell_type": "code",
   "execution_count": 119,
   "id": "d1c74f46",
   "metadata": {},
   "outputs": [
    {
     "name": "stdout",
     "output_type": "stream",
     "text": [
      "['t', '`', '~', '8', '8', 't', 't', '$', '$', 't']\n"
     ]
    }
   ],
   "source": [
    "pattern=r'[~`t8$]'  #  if 'o','r','i' in the string\n",
    "text = \"The score of the player was 34 runs` from 56 balls ~ in 8 overs 9876 they there $$thee\"   \n",
    "\n",
    "print(re.findall(pattern, text))"
   ]
  },
  {
   "cell_type": "markdown",
   "id": "d7fefc66",
   "metadata": {},
   "source": [
    "## "
   ]
  },
  {
   "cell_type": "code",
   "execution_count": 121,
   "id": "04fef588",
   "metadata": {},
   "outputs": [
    {
     "name": "stdout",
     "output_type": "stream",
     "text": [
      "['h', 'e', 'c', 'e', 'f', 'h', 'e', 'e', 'f', 'e', 'h', 'e', 'h', 'e', 'e', 'h', 'e', 'e']\n"
     ]
    }
   ],
   "source": [
    "# finding anything between RANGE\n",
    "# use case: find anything what we are not expecting in a dataset whatever it might be\n",
    "pattern=r'[c-h]'  #  check if string contains alphabets between 'c' to 'h'\n",
    "text = \"The score of the player was 34 runs` from 56 balls ~ in 8 overs 9876 they there $$thee\"   \n",
    "\n",
    "print(re.findall(pattern, text))"
   ]
  },
  {
   "cell_type": "code",
   "execution_count": 124,
   "id": "0c19a368",
   "metadata": {},
   "outputs": [
    {
     "name": "stdout",
     "output_type": "stream",
     "text": [
      "['3', '4', '5', '1', '2', '3']\n"
     ]
    }
   ],
   "source": [
    "\n",
    "pattern=r'[1-5]'  #  check if string contains alphabets between 'c' to 'h'\n",
    "text = \"The score of the player was 34 runs` from 56 balls ~ in 8 overs 9876 they there $$thee 1230\"   \n",
    "\n",
    "print(re.findall(pattern, text))"
   ]
  },
  {
   "cell_type": "code",
   "execution_count": 126,
   "id": "e38cfd53",
   "metadata": {},
   "outputs": [
    {
     "name": "stdout",
     "output_type": "stream",
     "text": [
      "['T']\n"
     ]
    }
   ],
   "source": [
    "\n",
    "pattern=r'[A-Z]'  #  check if string contains alphabets between 'c' to 'h'\n",
    "text = \"The score of the player was 34 runs` from 56 balls ~ in 8 overs 9876 they there $$thee 1230\"   \n",
    "\n",
    "print(re.findall(pattern, text))"
   ]
  },
  {
   "cell_type": "code",
   "execution_count": 127,
   "id": "21ce17dc",
   "metadata": {},
   "outputs": [
    {
     "name": "stdout",
     "output_type": "stream",
     "text": [
      "['T', 'h', 'e', ' ', 's', 'c', 'o', 'r', 'e', ' ', 'o', 'f', ' ', 't', 'h', 'e', ' ', 'p', 'l', 'a', 'y', 'e', 'r', ' ', 'w', 'a', 's', ' ', ' ', 'r', 'u', 'n', 's', '`', ' ', 'f', 'r', 'o', 'm', ' ', '6', ' ', 'b', 'a', 'l', 'l', 's', ' ', '~', ' ', 'i', 'n', ' ', '8', ' ', 'o', 'v', 'e', 'r', 's', ' ', '9', '8', '7', '6', ' ', 't', 'h', 'e', 'y', ' ', 't', 'h', 'e', 'r', 'e', ' ', '$', '$', 't', 'h', 'e', 'e', ' ', '0']\n"
     ]
    }
   ],
   "source": [
    "pattern=r'[^1-5]'  #   finds everything that is not(^) 1-5\n",
    "text = \"The score of the player was 34 runs` from 56 balls ~ in 8 overs 9876 they there $$thee 1230\"   \n",
    "\n",
    "print(re.findall(pattern, text))"
   ]
  },
  {
   "cell_type": "markdown",
   "id": "04523206",
   "metadata": {},
   "source": [
    "## "
   ]
  },
  {
   "cell_type": "code",
   "execution_count": 131,
   "id": "592b075f",
   "metadata": {},
   "outputs": [
    {
     "name": "stdout",
     "output_type": "stream",
     "text": [
      "['404']\n"
     ]
    }
   ],
   "source": [
    "# finding COMBINATIONS\n",
    "# use case: useuful to find some error code, for example 404, 200 etc, car nubrer or whaever\n",
    "pattern=r'[0-4][0-1][3-4]'  # find 3 numbers: 1 from range 0-4, second 0-1, third 3-4\n",
    "text = \"The score of the player was 34 runs` from 56 balls ~ in 8 overs 9876 they there $$thee 1230 404 IL\"   \n",
    "\n",
    "print(re.findall(pattern, text))"
   ]
  },
  {
   "cell_type": "code",
   "execution_count": 135,
   "id": "e629a046",
   "metadata": {},
   "outputs": [
    {
     "name": "stdout",
     "output_type": "stream",
     "text": [
      "['T', 'h', 'e', 's', 'c', 'o', 'r', 'e', 'o', 'f', 't', 'h', 'e', 'p', 'l', 'a', 'y', 'e', 'r', 'w', 'a', 's', 'r', 'u', 'n', 's', 'f', 'r', 'o', 'm', 'b', 'a', 'l', 'l', 's', 'i', 'n', 'o', 'v', 'e', 'r', 's', 't', 'h', 'e', 'y', 't', 'h', 'e', 'r', 'e', 't', 'h', 'e', 'e', 'I', 'L', 'I', 'L']\n"
     ]
    }
   ],
   "source": [
    "# finding COMBINATIONS\n",
    "# use case: useuful to find some error code, for example 404, credit cards numbers, \n",
    "pattern=r'[a-zA-Z]'  # find any charecters small or large \n",
    "text = \"The score of the player was 34 runs` from 56 balls ~ in 8 overs 9876 they there $$thee  IL12 404 IL\"   \n",
    "\n",
    "print(re.findall(pattern, text))"
   ]
  },
  {
   "cell_type": "code",
   "execution_count": 136,
   "id": "7aaf3b4d",
   "metadata": {},
   "outputs": [
    {
     "name": "stdout",
     "output_type": "stream",
     "text": [
      "['T', 'h', 'e', 's', 'c', 'o', 'r', 'e', 'o', 'f', 't', 'h', 'e', 'p', 'l', 'a', 'y', 'e', 'r', 'w', 'a', 's', 'r', 'u', 'n', 's', 'f', 'r', 'o', 'm', 'b', 'a', 'l', 'l', 's', 'i', 'n', 'o', 'v', 'e', 'r', 's', 't', 'h', 'e', 'y', 't', 'h', 'e', 'r', 'e', 't', 'h', 'e', 'e', 'I', 'L', '1', '2', '0', 'I', 'L']\n"
     ]
    }
   ],
   "source": [
    "# finding COMBINATIONS\n",
    "# use case: useuful to find some error code, for example 404, credit cards numbers, \n",
    "pattern=r'[a-zA-Z0-2]'  # find any charecters and digits\n",
    "text = \"The score of the player was 34 runs` from 56 balls ~ in 8 overs 9876 they there $$thee  IL12 404 IL\"   \n",
    "\n",
    "print(re.findall(pattern, text))"
   ]
  },
  {
   "cell_type": "code",
   "execution_count": 138,
   "id": "386590ac",
   "metadata": {},
   "outputs": [
    {
     "name": "stdout",
     "output_type": "stream",
     "text": [
      "[' ', ' ', ' ', ' ', ' ', ' ', ' ', '`', ' ', ' ', '6', ' ', ' ', '~', ' ', ' ', '8', ' ', ' ', '9', '8', '7', '6', ' ', ' ', ' ', '$', '$', ' ', ' ', ' ', ' ']\n"
     ]
    }
   ],
   "source": [
    "# finding COMBINATIONS of characters and combinations\n",
    "# use case: useuful to find some error code, for example 404, credit cards numbers, \n",
    "pattern=r'[^a-zA-Z0-5]'  # find anything that is NOT charecters small or digits 0-5\n",
    "text = \"The score of the player was 34 runs` from 56 balls ~ in 8 overs 9876 they there $$thee  IL12 404 IL\"   \n",
    "\n",
    "print(re.findall(pattern, text))"
   ]
  },
  {
   "cell_type": "markdown",
   "id": "9a32b697",
   "metadata": {},
   "source": [
    "## \n",
    "## USE CASES"
   ]
  },
  {
   "cell_type": "markdown",
   "id": "37d77b22",
   "metadata": {},
   "source": [
    "text = 'customer paid $200 for a jacket'\n",
    "in web scraping you need to know price of the product and a product name. \n",
    "\n",
    "---> find pruduct_id\n",
    "---> find product_price\n",
    "Also, useful in authomation process in banking, for example\n",
    "---> find email \n",
    "Also, in data science: \n",
    "---> is phone number or email present, or anything else in a particular data\n"
   ]
  }
 ],
 "metadata": {
  "kernelspec": {
   "display_name": "Python 3 (ipykernel)",
   "language": "python",
   "name": "python3"
  },
  "language_info": {
   "codemirror_mode": {
    "name": "ipython",
    "version": 3
   },
   "file_extension": ".py",
   "mimetype": "text/x-python",
   "name": "python",
   "nbconvert_exporter": "python",
   "pygments_lexer": "ipython3",
   "version": "3.8.12"
  }
 },
 "nbformat": 4,
 "nbformat_minor": 5
}
